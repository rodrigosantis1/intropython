{
 "cells": [
  {
   "cell_type": "code",
   "execution_count": 1,
   "metadata": {},
   "outputs": [],
   "source": [
    "import numpy as np\n",
    "import matplotlib.pyplot as plt\n",
    "%matplotlib inline"
   ]
  },
  {
   "cell_type": "markdown",
   "metadata": {},
   "source": [
    "## Exercício 1\n",
    "\n",
    "Uma das métricas mais utilizadas em problemas de regressão é o erro absoluto percentual médio -- MAPE, ou *Mean Absolute Percentage Error*. Esta métrica não está disponível no pacote *scikit-learn*, mas você precisa desta medida para poder comparar seus modelos de regressão baseados em aprendizado de máquina com os modelos estatísticos atualmente aplicados em sua empresa.\n",
    "\n",
    "Desenvolva uma função que seja capaz de retornar esta métrica para você. "
   ]
  },
  {
   "cell_type": "code",
   "execution_count": 5,
   "metadata": {},
   "outputs": [
    {
     "data": {
      "text/plain": [
       "1"
      ]
     },
     "execution_count": 5,
     "metadata": {},
     "output_type": "execute_result"
    }
   ],
   "source": [
    "import numpy as np\n",
    "\n",
    "def mape(y_true, y_pred, axis=None):\n",
    "    # Digite aqui sua função para calcular o erro médio percentual absoluto\n",
    "\n",
    "    return (1)\n",
    "\n",
    "y = np.array([100,150,80,0], dtype=np.float64)\n",
    "y_pred = np.array([120, 130,90,15])\n",
    "mape(y, y_pred)"
   ]
  },
  {
   "cell_type": "markdown",
   "metadata": {},
   "source": [
    "## Exercício 2\n",
    "\n",
    "Dado a seguinte amostra de dado X e y mostrada no gráfico abaixo."
   ]
  },
  {
   "cell_type": "code",
   "execution_count": 6,
   "metadata": {
    "scrolled": false
   },
   "outputs": [
    {
     "data": {
      "image/png": "[encoded data removed]",
      "text/plain": [
       "<Figure size 432x288 with 1 Axes>"
      ]
     },
     "metadata": {
      "needs_background": "light"
     },
     "output_type": "display_data"
    }
   ],
   "source": [
    "X = 2 * np.random.rand(100,1)\n",
    "y = 4 +3 * X+np.random.randn(100,1)\n",
    "\n",
    "plt.plot(X,y,'b.')\n",
    "plt.xlabel(\"$x$\", fontsize=18)\n",
    "plt.ylabel(\"$y$\", rotation=0, fontsize=18)\n",
    "_ = plt.axis([0,2,0,15])"
   ]
  },
  {
   "cell_type": "markdown",
   "metadata": {},
   "source": [
    "A função cal_cost abaixo mostra calcula o custo de um erro a partir dos vetores theta, X e y.\n",
    "Com base nas equações dadas, desenvolva a função de Gradiente Descendente, para atualizar o vetor Theta do modeo linear abaixo."
   ]
  },
  {
   "cell_type": "code",
   "execution_count": 7,
   "metadata": {},
   "outputs": [],
   "source": [
    "def cost(theta,X,y):\n",
    "    ''' \n",
    "    Cálculo do custo para um dado X e Y, dado vetor de thetas. \n",
    "    '''\n",
    "    m = len(y)\n",
    "    predictions = X.dot(theta)\n",
    "    cost = (1/2*m) * np.sum(np.square(predictions-y))\n",
    "    return cost"
   ]
  },
  {
   "cell_type": "code",
   "execution_count": 10,
   "metadata": {},
   "outputs": [],
   "source": [
    "def gradient_descent(X,y,theta,lr=0.01,iterations=100):\n",
    "    '''\n",
    "    Retorna o vetor theta ajustado para um dado X e Y utilizando o algoritmo de gradiente descendente.\n",
    "    '''\n",
    "    m = len(y)\n",
    "    for it in range(iterations):\n",
    "        # Modifique o theta a cada iteração, a partir da derivada da funçaõ custo * taxa de aprendizado\n",
    "        it\n",
    "    return theta"
   ]
  },
  {
   "cell_type": "code",
   "execution_count": 11,
   "metadata": {
    "scrolled": false
   },
   "outputs": [
    {
     "name": "stdout",
     "output_type": "stream",
     "text": [
      "Theta0:          0.207,\n",
      "Theta1:          0.782\n",
      "Custo fin./MSE:  197413.958\n"
     ]
    },
    {
     "data": {
      "image/png": "[encoded data removed]",
      "text/plain": [
       "<Figure size 432x288 with 1 Axes>"
      ]
     },
     "metadata": {
      "needs_background": "light"
     },
     "output_type": "display_data"
    }
   ],
   "source": [
    "lr =0.01\n",
    "n_iter = 1000\n",
    "\n",
    "theta = np.random.randn(2,1)\n",
    "\n",
    "X_b = np.c_[np.ones((len(X),1)),X]\n",
    "theta = gradient_descent(X_b,y,theta,lr,n_iter)\n",
    "\n",
    "# Plota curva ajustada e problema inicial\n",
    "plt.plot(X, X_b.dot(theta), 'r--', lw=0.8)\n",
    "\n",
    "plt.plot(X,y,'b.')\n",
    "plt.xlabel(\"$x$\", fontsize=18)\n",
    "plt.ylabel(\"$y$\", rotation=0, fontsize=18)\n",
    "_ = plt.axis([0,2,0,15])\n",
    "\n",
    "print('Theta0:          {:0.3f},\\nTheta1:          {:0.3f}'.format(theta[0][0],theta[1][0]))\n",
    "print('Custo fin./MSE:  {:0.3f}'.format(cost(theta, X_b, y)))\n"
   ]
  },
  {
   "cell_type": "markdown",
   "metadata": {},
   "source": [
    "## Exercício 3\n",
    "\n",
    "Agora iremos realizar o mesmo procedimento do exercício 2, porém adaptado ao modelo de regressão logístico binário, próprio para classificações.\n",
    "\n",
    "Dado o novo conjunto de dados abaixo, com as classes 1 e 0:\n"
   ]
  },
  {
   "cell_type": "code",
   "execution_count": 12,
   "metadata": {
    "scrolled": true
   },
   "outputs": [
    {
     "data": {
      "image/png": "[encoded data removed]",
      "text/plain": [
       "<Figure size 432x288 with 1 Axes>"
      ]
     },
     "metadata": {
      "needs_background": "light"
     },
     "output_type": "display_data"
    }
   ],
   "source": [
    "from sklearn import datasets\n",
    "iris = datasets.load_iris()\n",
    "\n",
    "X = iris.data[:, :2]\n",
    "y = (iris.target != 0) * 1\n",
    "\n",
    "plt.plot(X[y == 0][:, 0], X[y == 0][:, 1], 'b.', label='0')\n",
    "plt.plot(X[y == 1][:, 0], X[y == 1][:, 1], 'r.', label='1')\n",
    "plt.legend();"
   ]
  },
  {
   "cell_type": "markdown",
   "metadata": {},
   "source": [
    "A função de custo que iremoz minimizar agora será a função *loss()*, e a função *sigmoid()* faz a transformação da saída linear para uma função logística."
   ]
  },
  {
   "cell_type": "code",
   "execution_count": 13,
   "metadata": {},
   "outputs": [],
   "source": [
    "def sigmoid(z):\n",
    "    return 1 / (1 + np.exp(-z))\n",
    "\n",
    "def loss(h, y):\n",
    "    return (-y * np.log(h) - (1 - y) * np.log(1 - h)).mean()\n",
    "\n",
    "def gradient_descent_logit(X,y,theta,lr=0.01,iterations=100):\n",
    "    '''\n",
    "    Retorna o vetor theta ajustado para um dado X e Y utilizando o algoritmo de gradiente descendente, adaptado a regressão logística.\n",
    "    '''\n",
    "    m = len(y)\n",
    "    for it in range(iterations):\n",
    "        # Modifique o theta a cada iteração, a partir da derivada da função da derivada da função de perda * taxa de aprendizado\n",
    "        it\n",
    "    return theta"
   ]
  },
  {
   "cell_type": "code",
   "execution_count": 19,
   "metadata": {},
   "outputs": [
    {
     "name": "stdout",
     "output_type": "stream",
     "text": [
      "Theta0:          0.000,\n",
      "Theta1:          0.000\n",
      "Função de perda:  0.693\n"
     ]
    },
    {
     "name": "stderr",
     "output_type": "stream",
     "text": [
      "C:\\Users\\rodri\\AppData\\Local\\Continuum\\anaconda3\\lib\\site-packages\\ipykernel_launcher.py:16: UserWarning: No contour levels were found within the data range.\n",
      "  app.launch_new_instance()\n"
     ]
    },
    {
     "data": {
      "image/png": "[encoded data removed]",
      "text/plain": [
       "<Figure size 432x288 with 1 Axes>"
      ]
     },
     "metadata": {
      "needs_background": "light"
     },
     "output_type": "display_data"
    }
   ],
   "source": [
    "lr =0.1\n",
    "n_iter = 1000\n",
    "\n",
    "theta = np.zeros(X.shape[1])\n",
    "theta = gradient_descent_logit(X,y,theta,lr,n_iter)\n",
    "\n",
    "plt.plot(X[y == 0][:, 0], X[y == 0][:, 1], 'b.', label='0')\n",
    "plt.plot(X[y == 1][:, 0], X[y == 1][:, 1], 'r.', label='1')\n",
    "plt.legend();\n",
    "\n",
    "x1_min, x1_max = X[:,0].min(), X[:,0].max(),\n",
    "x2_min, x2_max = X[:,1].min(), X[:,1].max(),\n",
    "xx1, xx2 = np.meshgrid(np.linspace(x1_min, x1_max), np.linspace(x2_min, x2_max))\n",
    "grid = np.c_[xx1.ravel(), xx2.ravel()]\n",
    "probs = sigmoid(np.dot(grid, theta)).reshape(xx1.shape)\n",
    "plt.contour(xx1, xx2, probs, [0.5], linewidths=1, colors='black');\n",
    "\n",
    "print('Theta0:          {:0.3f},\\nTheta1:          {:0.3f}'.format(theta[0], theta[1]))\n",
    "print('Função de perda:  {:0.3f}'.format(loss(sigmoid(np.dot(X,theta)), y)))"
   ]
  },
  {
   "cell_type": "code",
   "execution_count": null,
   "metadata": {},
   "outputs": [],
   "source": []
  }
 ],
 "metadata": {
  "kernelspec": {
   "display_name": "Python 3",
   "language": "python",
   "name": "python3"
  },
  "language_info": {
   "codemirror_mode": {
    "name": "ipython",
    "version": 3
   },
   "file_extension": ".py",
   "mimetype": "text/x-python",
   "name": "python",
   "nbconvert_exporter": "python",
   "pygments_lexer": "ipython3",
   "version": "3.7.3"
  }
 },
 "nbformat": 4,
 "nbformat_minor": 2
}
