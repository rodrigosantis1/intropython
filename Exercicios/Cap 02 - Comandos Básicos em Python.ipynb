{
 "cells": [
  {
   "cell_type": "markdown",
   "metadata": {},
   "source": [
    "## Exercício 1\n",
    "\n",
    "Peça ao usuário para digitar uma string e imprima se esta string é um palíndromo ou não. (Palíndromo é uma palavra que é lida da esquerda para a direita, conforme o sentido habitual da leitura, ou da direita para esquerda)."
   ]
  },
  {
   "cell_type": "code",
   "execution_count": 1,
   "metadata": {},
   "outputs": [
    {
     "name": "stdout",
     "output_type": "stream",
     "text": [
      "Digite uma palavra:teste\n"
     ]
    }
   ],
   "source": [
    "wrd = str(input(\"Digite uma palavra:\"))\n",
    "\n",
    "## Seu código aqui:"
   ]
  },
  {
   "cell_type": "markdown",
   "metadata": {},
   "source": [
    "## Exercício 2\n",
    "\n",
    "Escreva um programa que pergunte ao usuário quantos númerosde Fibonacci serão gerados. Aproveite esta oportunidade para pensar sobre como você pode usar funções. Certifique-se de pedir ao usuário para inserir o númerode números na sequencia para gerar.\n",
    "\n",
    "(Dica: A sequencia Fibonacci é uma série onde o próximo número na sequencia é a soma dos dois números anteriores da série. E assim: 1, 1, 2, 3, 5, 8, 13,...)."
   ]
  },
  {
   "cell_type": "code",
   "execution_count": 2,
   "metadata": {},
   "outputs": [
    {
     "name": "stdout",
     "output_type": "stream",
     "text": [
      "Digite o número de termos: 5\n",
      "Sequência de Fibonacci:\n",
      "1\n",
      "1\n",
      "1\n",
      "1\n",
      "1\n"
     ]
    }
   ],
   "source": [
    "def fibonacci(n):\n",
    "    ## Modifique esta função:\n",
    "    return(1)\n",
    "\n",
    "    \n",
    "nfib = int(input(\"Digite o número de termos: \"))\n",
    "\n",
    "print(\"Sequência de Fibonacci:\")\n",
    "for i in range(1, nfib+1):\n",
    "   print(fibonacci(i))"
   ]
  },
  {
   "cell_type": "markdown",
   "metadata": {},
   "source": [
    "## Exercício 3\n",
    "\n",
    "Forca é um jogo muito divertido e popular que todos provavelmente conhecem e já jogaram quando crianças.\n",
    "\n",
    "Neste jogo, um jogador define uma palavra secreta, e o outro jogador tem um número limitado (normalmente 6) de letras máximas que ele pode errar. Cada vez que uma palavra certa é adivinhada, é mostrado em qual posição se encontram as letras. \n",
    "\n",
    "Crie um jogo de forca para utilizando a linguagem Python, tentando incluir o máximo de funcionalidades que achar pertinente."
   ]
  },
  {
   "cell_type": "code",
   "execution_count": 3,
   "metadata": {},
   "outputs": [
    {
     "name": "stdout",
     "output_type": "stream",
     "text": [
      "Qual a palavra secreta?········\n",
      "_ _ _ _ _\n",
      "Tentativas até agora:\n",
      " []\n",
      "Seu palpite: a\n",
      "_ _ _ _ _\n",
      "Tentativas até agora:\n",
      " []\n",
      "Seu palpite: e\n",
      "_ _ _ _ _\n",
      "Tentativas até agora:\n",
      " []\n",
      "Seu palpite: sair\n",
      "Obrigado, até mais!\n"
     ]
    }
   ],
   "source": [
    "from getpass import getpass\n",
    "palavra_secreta = str(getpass(\"Qual a palavra secreta?\").upper()); \n",
    "\n",
    "tracos = list(palavra_secreta)\n",
    "exibicao_lista = []\n",
    "\n",
    "for i in tracos:\n",
    "    exibicao_lista.append(\"_\")\n",
    "cont = len(palavra_secreta)\n",
    "tentativas = 0; letra = 0; erros = 0\n",
    "tentativas_lista = []\n",
    "\n",
    "while (cont != 0 and letra != 'sair' and erros <= 5):\n",
    "    print(\" \".join(exibicao_lista))\n",
    "    print(\"Tentativas até agora:\\n\",tentativas_lista)\n",
    "    \n",
    "    letra = str(input('Seu palpite: '))\n",
    "    \n",
    "    ## Deveremos verificar se a letra existe na palavra secreta e alterar as variáveis declaradas até então\n",
    "    ## Insira sua lógica a seguir:\n",
    "    \n",
    "    ## Fim da sua lógica\n",
    "    \n",
    "if letra == \"sair\":\n",
    "    print(\"Obrigado, até mais!\")\n",
    "elif erros > 5:\n",
    "    print(\"Você foi enforcado. :(\")\n",
    "else:\n",
    "    print(\" \".join(exibicao_lista))\n",
    "    print(\"Parabéns, você advinhou que a palavra é \"+palavra_secreta+\" depois de %s tentativas.\" % tentativas)"
   ]
  }
 ],
 "metadata": {
  "kernelspec": {
   "display_name": "Python 3",
   "language": "python",
   "name": "python3"
  },
  "language_info": {
   "codemirror_mode": {
    "name": "ipython",
    "version": 3
   },
   "file_extension": ".py",
   "mimetype": "text/x-python",
   "name": "python",
   "nbconvert_exporter": "python",
   "pygments_lexer": "ipython3",
   "version": "3.7.3"
  }
 },
 "nbformat": 4,
 "nbformat_minor": 2
}
