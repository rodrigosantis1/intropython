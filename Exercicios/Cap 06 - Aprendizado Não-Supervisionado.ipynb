{
 "cells": [
  {
   "cell_type": "code",
   "execution_count": 1,
   "metadata": {},
   "outputs": [],
   "source": [
    "import numpy as np\n",
    "import matplotlib.pyplot as plt\n",
    "\n",
    "%matplotlib inline"
   ]
  },
  {
   "cell_type": "markdown",
   "metadata": {},
   "source": [
    "## Exercício 1\n",
    "\n",
    "Conjunto de dados Iris.\n",
    "1. Ajuste um modelo PCA para transformar todos os atributos do dataset Iris (PCA). Plote as duas componentes principais do modelo. Inclua o Índice de Variabilidade Explicada em algum lugar de seu gráfico. Como esse gráfico se difere do gráfico do exercício 3 do capítulo anterior?\n",
    "2. Faça o mesmo procedimento, porém usando três componentes.\n",
    "3. Ajuste um modelo de clusterização KNN com N=3 para o modelo transformado pela PCA.\n",
    "4. Faça um gráfico com o grupos criados e compare com o gráfico anterior com as classes reais. Qual a diferença entre os grupos e os rótulos originais?"
   ]
  },
  {
   "cell_type": "code",
   "execution_count": 2,
   "metadata": {
    "scrolled": true
   },
   "outputs": [],
   "source": [
    "from sklearn.datasets import load_iris\n",
    "iris = load_iris()\n",
    "\n",
    "X = iris.data\n",
    "y = iris.target"
   ]
  }
 ],
 "metadata": {
  "kernelspec": {
   "display_name": "Python 3",
   "language": "python",
   "name": "python3"
  },
  "language_info": {
   "codemirror_mode": {
    "name": "ipython",
    "version": 3
   },
   "file_extension": ".py",
   "mimetype": "text/x-python",
   "name": "python",
   "nbconvert_exporter": "python",
   "pygments_lexer": "ipython3",
   "version": "3.7.3"
  }
 },
 "nbformat": 4,
 "nbformat_minor": 2
}
