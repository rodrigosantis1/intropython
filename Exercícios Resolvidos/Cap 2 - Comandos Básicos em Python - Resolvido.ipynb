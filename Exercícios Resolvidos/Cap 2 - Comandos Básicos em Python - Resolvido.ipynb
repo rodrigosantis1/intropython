{
 "cells": [
  {
   "cell_type": "markdown",
   "metadata": {},
   "source": [
    "## Exercício 1\n",
    "\n",
    "Peça ao usuário para digitar uma string e imprima se esta string é um palíndromo ou não. (Palíndromo é uma palavra que é lida da esquerda para a direita, conforme o sentido habitual da leitura, ou da direita para esquerda)."
   ]
  },
  {
   "cell_type": "code",
   "execution_count": 8,
   "metadata": {},
   "outputs": [
    {
     "name": "stdout",
     "output_type": "stream",
     "text": [
      "Digite uma palavra:arara\n",
      "arara\n",
      "É palíndromo.\n"
     ]
    }
   ],
   "source": [
    "wrd = str(input(\"Digite uma palavra:\"))\n",
    "\n",
    "## Seu código aqui:\n",
    "\n",
    "rvs=wrd[::-1]\n",
    "print(rvs)\n",
    "\n",
    "if wrd == rvs:\n",
    "    print(\"É palíndromo.\")\n",
    "else:\n",
    "    print(\"Não é palindromo.\")"
   ]
  },
  {
   "cell_type": "markdown",
   "metadata": {},
   "source": [
    "## Exercício 2\n",
    "\n",
    "Escreva um programa que pergunte ao usuário quantos númerosde Fibonacci serão gerados. Aproveite esta oportunidade para pensar sobre como você pode usar funções. Certifique-se de pedir ao usuário para inserir o númerode números na sequencia para gerar.\n",
    "\n",
    "(Dica: A sequencia Fibonacci é uma série onde o próximo número na sequencia é a soma dos dois números anteriores da série. E assim: 1, 1, 2, 3, 5, 8, 13,...)."
   ]
  },
  {
   "cell_type": "code",
   "execution_count": 18,
   "metadata": {},
   "outputs": [
    {
     "name": "stdout",
     "output_type": "stream",
     "text": [
      "Digite o número de termos: 7\n",
      "Sequência de Fibonacci:\n",
      "1\n",
      "1\n",
      "2\n",
      "3\n",
      "5\n",
      "8\n",
      "13\n"
     ]
    }
   ],
   "source": [
    "def fibonacci(n):\n",
    "    ## Seu código\n",
    "    if n <= 1:\n",
    "        return (n)\n",
    "    else:\n",
    "        return(fibonacci(n-1) + fibonacci(n-2))\n",
    "\n",
    "    \n",
    "nfib = int(input(\"Digite o número de termos: \"))\n",
    "\n",
    "print(\"Sequência de Fibonacci:\")\n",
    "for i in range(1, nfib+1):\n",
    "   print(fibonacci(i))"
   ]
  },
  {
   "cell_type": "markdown",
   "metadata": {},
   "source": [
    "## Exercício 3\n",
    "\n",
    "Forca é um jogo muito divertido e popular que todos provavelmente conhecem e já jogaram quando crianças.\n",
    "\n",
    "Neste jogo, um jogador define uma palavra secreta, e o outro jogador tem um número limitado (normalmente 6) de letras máximas que ele pode errar. Cada vez que uma palavra certa é adivinhada, é mostrado em qual posição se encontram as letras. \n",
    "\n",
    "Crie um jogo de forca para utilizando a linguagem Python, tentando incluir o máximo de funcionalidades que achar pertinente."
   ]
  },
  {
   "cell_type": "code",
   "execution_count": 19,
   "metadata": {},
   "outputs": [
    {
     "name": "stdout",
     "output_type": "stream",
     "text": [
      "Qual a palavra secreta?········\n",
      "_ _ _ _ _ _\n",
      "Tentativas até agora:\n",
      " []\n",
      "Seu palpite: A\n",
      "Não há.\n",
      "_ _ _ _ _ _\n",
      "Tentativas até agora:\n",
      " ['A']\n",
      "Seu palpite: E\n",
      "Não há.\n",
      "_ _ _ _ _ _\n",
      "Tentativas até agora:\n",
      " ['A', 'E']\n",
      "Seu palpite: I\n",
      "_ _ _ _ _ I\n",
      "Tentativas até agora:\n",
      " ['A', 'E', 'I']\n",
      "Seu palpite: U\n",
      "_ U _ U _ I\n",
      "Tentativas até agora:\n",
      " ['A', 'E', 'I', 'U']\n",
      "Seu palpite: R\n",
      "_ U _ U R I\n",
      "Tentativas até agora:\n",
      " ['A', 'E', 'I', 'R', 'U']\n",
      "Seu palpite: S\n",
      "S U _ U R I\n",
      "Tentativas até agora:\n",
      " ['A', 'E', 'I', 'R', 'S', 'U']\n",
      "Seu palpite: C\n",
      "S U C U R I\n",
      "Parabéns, você advinhou que a palavra é SUCURI depois de 7 tentativas.\n"
     ]
    }
   ],
   "source": [
    "from getpass import getpass\n",
    "palavra_secreta = str(getpass(\"Qual a palavra secreta?\").upper()); \n",
    "\n",
    "tracos = list(palavra_secreta)\n",
    "exibicao_lista = []\n",
    "\n",
    "for i in tracos:\n",
    "    exibicao_lista.append(\"_\")\n",
    "cont = len(palavra_secreta)\n",
    "tentativas = 0; letra = 0; erros = 0\n",
    "tentativas_lista = []\n",
    "\n",
    "while (cont != 0 and letra != 'sair' and erros <= 5):\n",
    "    print(\" \".join(exibicao_lista))\n",
    "    print(\"Tentativas até agora:\\n\",tentativas_lista)\n",
    "    \n",
    "    letra = str(input('Seu palpite: '))\n",
    "    \n",
    "    ## Deveremos verificar se a letra existe na palavra secreta e alterar as variáveis declaradas até então\n",
    "    ## Insira sua lógica a seguir:\n",
    "    if letra.upper() in tentativas_lista:\n",
    "        print(\"Ops, você já tentou esta letra.\")\n",
    "    else:\n",
    "        busca = 0\n",
    "        for i in range(0, len(palavra_secreta)):\n",
    "            if letra.upper() == palavra_secreta[i]:\n",
    "                exibicao_lista[i] = letra.upper()\n",
    "                cont -= 1\n",
    "                busca = 1\n",
    "        if busca == 0:\n",
    "            erros += 1\n",
    "            print(\"Não há.\")\n",
    "        tentativas += 1\n",
    "        tentativas_lista.append(letra.upper())\n",
    "        tentativas_lista.sort()\n",
    "        \n",
    "    ## Fim da sua lógica\n",
    "    \n",
    "if letra == \"sair\":\n",
    "    print(\"Obrigado, até mais!\")\n",
    "elif erros > 5:\n",
    "    print(\"Você foi enforcado. :(\")\n",
    "else:\n",
    "    print(\" \".join(exibicao_lista))\n",
    "    print(\"Parabéns, você advinhou que a palavra é \"+palavra_secreta+\" depois de %s tentativas.\" % tentativas)"
   ]
  },
  {
   "cell_type": "code",
   "execution_count": null,
   "metadata": {},
   "outputs": [],
   "source": []
  }
 ],
 "metadata": {
  "kernelspec": {
   "display_name": "Python 3",
   "language": "python",
   "name": "python3"
  },
  "language_info": {
   "codemirror_mode": {
    "name": "ipython",
    "version": 3
   },
   "file_extension": ".py",
   "mimetype": "text/x-python",
   "name": "python",
   "nbconvert_exporter": "python",
   "pygments_lexer": "ipython3",
   "version": "3.7.3"
  }
 },
 "nbformat": 4,
 "nbformat_minor": 2
}
