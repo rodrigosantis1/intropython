{
 "cells": [
  {
   "cell_type": "markdown",
   "metadata": {},
   "source": [
    "# Aula 1\n",
    "\n",
    "## 1 Leitura e Escrita\n",
    "\n",
    "Para escrever usamos o comando *print( )*. Podemos solicitar a entrada de dados pelo console usando a função *input( )*."
   ]
  },
  {
   "cell_type": "code",
   "execution_count": 1,
   "metadata": {},
   "outputs": [
    {
     "name": "stdout",
     "output_type": "stream",
     "text": [
      "Hello world!\n"
     ]
    }
   ],
   "source": [
    "print (\"Hello world!\")"
   ]
  },
  {
   "cell_type": "code",
   "execution_count": 2,
   "metadata": {},
   "outputs": [
    {
     "name": "stdout",
     "output_type": "stream",
     "text": [
      "Hello world!\n"
     ]
    }
   ],
   "source": [
    "s1 = \"Hello\"\n",
    "s2 = \"world\"\n",
    "print(\"{} {}!\".format(s1,s2))"
   ]
  },
  {
   "cell_type": "code",
   "execution_count": 3,
   "metadata": {
    "scrolled": false
   },
   "outputs": [
    {
     "name": "stdout",
     "output_type": "stream",
     "text": [
      "1.252\n"
     ]
    }
   ],
   "source": [
    "n = 1.252124215\n",
    "print(\"%.3f\" % n)"
   ]
  },
  {
   "cell_type": "code",
   "execution_count": 4,
   "metadata": {
    "scrolled": true
   },
   "outputs": [
    {
     "name": "stdout",
     "output_type": "stream",
     "text": [
      "1.252\n"
     ]
    }
   ],
   "source": [
    "print(\"{0:.3f}\".format(n))"
   ]
  },
  {
   "cell_type": "code",
   "execution_count": 5,
   "metadata": {},
   "outputs": [
    {
     "name": "stdout",
     "output_type": "stream",
     "text": [
      "Qual seu nome?Rodrigo\n",
      "Rodrigo\n"
     ]
    }
   ],
   "source": [
    "name = input(\"Qual seu nome?\")\n",
    "print(name)"
   ]
  },
  {
   "cell_type": "markdown",
   "metadata": {},
   "source": [
    "## 2 Listas\n",
    "\n",
    "### 2.1 Inicialização\n",
    "Para iniciar uma lista, você pode entrar manualmente os valores entre colchetes ou utilizar um comando de iteração."
   ]
  },
  {
   "cell_type": "code",
   "execution_count": 1,
   "metadata": {},
   "outputs": [
    {
     "data": {
      "text/plain": [
       "[1, 2, 3, 4, 5]"
      ]
     },
     "execution_count": 1,
     "metadata": {},
     "output_type": "execute_result"
    }
   ],
   "source": [
    "lista1 = [1,2,3,4,5]\n",
    "lista1"
   ]
  },
  {
   "cell_type": "code",
   "execution_count": 2,
   "metadata": {
    "scrolled": true
   },
   "outputs": [
    {
     "data": {
      "text/plain": [
       "[36, 'João', True, 15.5]"
      ]
     },
     "execution_count": 2,
     "metadata": {},
     "output_type": "execute_result"
    }
   ],
   "source": [
    "lista2 = [36,\"João\",True,15.5]\n",
    "lista2"
   ]
  },
  {
   "cell_type": "code",
   "execution_count": 3,
   "metadata": {
    "scrolled": true
   },
   "outputs": [
    {
     "data": {
      "text/plain": [
       "[10, 20, 30, 40, 50, 60, 70, 80, 90]"
      ]
     },
     "execution_count": 3,
     "metadata": {},
     "output_type": "execute_result"
    }
   ],
   "source": [
    "lista3 = list(range(10,100,10))\n",
    "lista3"
   ]
  },
  {
   "cell_type": "code",
   "execution_count": 5,
   "metadata": {
    "scrolled": true
   },
   "outputs": [
    {
     "data": {
      "text/plain": [
       "[1, 2, 3, 4, 5, 36, 'João', True, 15.5]"
      ]
     },
     "execution_count": 5,
     "metadata": {},
     "output_type": "execute_result"
    }
   ],
   "source": [
    "lista1 + lista2"
   ]
  },
  {
   "cell_type": "code",
   "execution_count": 6,
   "metadata": {
    "scrolled": true
   },
   "outputs": [
    {
     "data": {
      "text/plain": [
       "[1, 2, 3, 4, 5, 1, 2, 3, 4, 5, 1, 2, 3, 4, 5]"
      ]
     },
     "execution_count": 6,
     "metadata": {},
     "output_type": "execute_result"
    }
   ],
   "source": [
    "3*lista1"
   ]
  },
  {
   "cell_type": "code",
   "execution_count": 7,
   "metadata": {},
   "outputs": [
    {
     "data": {
      "text/plain": [
       "20"
      ]
     },
     "execution_count": 7,
     "metadata": {},
     "output_type": "execute_result"
    }
   ],
   "source": [
    "lista3[1]"
   ]
  },
  {
   "cell_type": "code",
   "execution_count": 8,
   "metadata": {},
   "outputs": [
    {
     "data": {
      "text/plain": [
       "90"
      ]
     },
     "execution_count": 8,
     "metadata": {},
     "output_type": "execute_result"
    }
   ],
   "source": [
    "lista3[-1]"
   ]
  },
  {
   "cell_type": "code",
   "execution_count": 4,
   "metadata": {
    "scrolled": true
   },
   "outputs": [
    {
     "data": {
      "text/plain": [
       "[30, 40, 50]"
      ]
     },
     "execution_count": 4,
     "metadata": {},
     "output_type": "execute_result"
    }
   ],
   "source": [
    "lista3[2:5]"
   ]
  },
  {
   "cell_type": "markdown",
   "metadata": {},
   "source": [
    "### 2.2 Funções úteis\n",
    "Algumas funções básicas que podem ser utilizado para manipulação das listas são exibidas a seguir."
   ]
  },
  {
   "cell_type": "code",
   "execution_count": 9,
   "metadata": {
    "scrolled": false
   },
   "outputs": [
    {
     "data": {
      "text/plain": [
       "[1, 2, 3, 4, 5, 6]"
      ]
     },
     "execution_count": 9,
     "metadata": {},
     "output_type": "execute_result"
    }
   ],
   "source": [
    "a = [1,2,3]\n",
    "b = [4,5,6]\n",
    "c = a+b\n",
    "c"
   ]
  },
  {
   "cell_type": "code",
   "execution_count": 10,
   "metadata": {},
   "outputs": [
    {
     "data": {
      "text/plain": [
       "[1, 2, 4, 5, 6]"
      ]
     },
     "execution_count": 10,
     "metadata": {},
     "output_type": "execute_result"
    }
   ],
   "source": [
    "c.pop(2)\n",
    "c"
   ]
  },
  {
   "cell_type": "code",
   "execution_count": 14,
   "metadata": {},
   "outputs": [
    {
     "data": {
      "text/plain": [
       "[6, 5, 4, 2, 1]"
      ]
     },
     "execution_count": 14,
     "metadata": {},
     "output_type": "execute_result"
    }
   ],
   "source": [
    "c.reverse()\n",
    "c"
   ]
  },
  {
   "cell_type": "code",
   "execution_count": 15,
   "metadata": {
    "scrolled": true
   },
   "outputs": [
    {
     "data": {
      "text/plain": [
       "[6, 5, 4, 2, 1, 15]"
      ]
     },
     "execution_count": 15,
     "metadata": {},
     "output_type": "execute_result"
    }
   ],
   "source": [
    "c.append(15)\n",
    "c"
   ]
  },
  {
   "cell_type": "code",
   "execution_count": 16,
   "metadata": {
    "scrolled": true
   },
   "outputs": [
    {
     "data": {
      "text/plain": [
       "6"
      ]
     },
     "execution_count": 16,
     "metadata": {},
     "output_type": "execute_result"
    }
   ],
   "source": [
    "len(c)"
   ]
  },
  {
   "cell_type": "code",
   "execution_count": 17,
   "metadata": {},
   "outputs": [
    {
     "data": {
      "text/plain": [
       "33"
      ]
     },
     "execution_count": 17,
     "metadata": {},
     "output_type": "execute_result"
    }
   ],
   "source": [
    "sum(c)"
   ]
  },
  {
   "cell_type": "code",
   "execution_count": 18,
   "metadata": {},
   "outputs": [
    {
     "data": {
      "text/plain": [
       "[]"
      ]
     },
     "execution_count": 18,
     "metadata": {},
     "output_type": "execute_result"
    }
   ],
   "source": [
    "c.clear()\n",
    "c"
   ]
  },
  {
   "cell_type": "markdown",
   "metadata": {},
   "source": [
    "## 3 Strings"
   ]
  },
  {
   "cell_type": "code",
   "execution_count": 11,
   "metadata": {
    "scrolled": true
   },
   "outputs": [
    {
     "name": "stdout",
     "output_type": "stream",
     "text": [
      "Aprendizado de Máquina com Python\n"
     ]
    }
   ],
   "source": [
    "s1 = 'Aprendizado de Máquina com Python'\n",
    "print(s1)"
   ]
  },
  {
   "cell_type": "code",
   "execution_count": 12,
   "metadata": {
    "scrolled": true
   },
   "outputs": [
    {
     "data": {
      "text/plain": [
       "['Aprendizado', 'de', 'Máquina', 'com', 'Python']"
      ]
     },
     "execution_count": 12,
     "metadata": {},
     "output_type": "execute_result"
    }
   ],
   "source": [
    "s1.split(' ')"
   ]
  },
  {
   "cell_type": "code",
   "execution_count": 13,
   "metadata": {},
   "outputs": [
    {
     "data": {
      "text/plain": [
       "'Aprendizado de '"
      ]
     },
     "execution_count": 13,
     "metadata": {},
     "output_type": "execute_result"
    }
   ],
   "source": [
    "s1[:15]"
   ]
  },
  {
   "cell_type": "code",
   "execution_count": 17,
   "metadata": {},
   "outputs": [
    {
     "data": {
      "text/plain": [
       "'Aprendizado De Máquina Com Python'"
      ]
     },
     "execution_count": 17,
     "metadata": {},
     "output_type": "execute_result"
    }
   ],
   "source": [
    "s1.title()"
   ]
  },
  {
   "cell_type": "code",
   "execution_count": 23,
   "metadata": {},
   "outputs": [
    {
     "data": {
      "text/plain": [
       "'Apr3ndizado d3 Máquina com Python'"
      ]
     },
     "execution_count": 23,
     "metadata": {},
     "output_type": "execute_result"
    }
   ],
   "source": [
    "s1.replace('e','3')"
   ]
  },
  {
   "cell_type": "code",
   "execution_count": 24,
   "metadata": {},
   "outputs": [
    {
     "data": {
      "text/plain": [
       "27"
      ]
     },
     "execution_count": 24,
     "metadata": {},
     "output_type": "execute_result"
    }
   ],
   "source": [
    "s1.find('Python')"
   ]
  },
  {
   "cell_type": "code",
   "execution_count": 25,
   "metadata": {},
   "outputs": [
    {
     "data": {
      "text/plain": [
       "'Python'"
      ]
     },
     "execution_count": 25,
     "metadata": {},
     "output_type": "execute_result"
    }
   ],
   "source": [
    "s1[27:]"
   ]
  },
  {
   "cell_type": "markdown",
   "metadata": {},
   "source": [
    "## 4 Estruturas de Controle e Repetição"
   ]
  },
  {
   "cell_type": "code",
   "execution_count": 48,
   "metadata": {
    "scrolled": false
   },
   "outputs": [
    {
     "name": "stdout",
     "output_type": "stream",
     "text": [
      "0\n",
      "1\n",
      "2\n",
      "3\n",
      "4\n"
     ]
    }
   ],
   "source": [
    "for i in range(5):\n",
    "    print(i)"
   ]
  },
  {
   "cell_type": "code",
   "execution_count": 36,
   "metadata": {},
   "outputs": [
    {
     "name": "stdout",
     "output_type": "stream",
     "text": [
      "1\n",
      "2\n",
      "3\n",
      "4\n",
      "5\n"
     ]
    }
   ],
   "source": [
    "i = 1\n",
    "while i < 6:\n",
    "    a\n",
    "    \n",
    "  print(i)\n",
    "  i += 1"
   ]
  },
  {
   "cell_type": "code",
   "execution_count": 19,
   "metadata": {
    "scrolled": true
   },
   "outputs": [
    {
     "name": "stdout",
     "output_type": "stream",
     "text": [
      "Welcome to Hangman!\n",
      "macarronada\n",
      "_ _ _ _ _ _ _ _ _ _ _\n",
      "Guess your letter: m\n",
      "_ _ _ _ _ _ _ _ _ _ _\n",
      "Guess your letter: a\n",
      "_ _ _ _ _ _ _ _ _ _ _\n",
      "Guess your letter: e\n",
      "_ _ _ _ _ _ _ _ _ _ _\n",
      "Guess your letter: c\n",
      "_ _ _ _ _ _ _ _ _ _ _\n",
      "Guess your letter: a\n",
      "Oops! Already guessed that letter.\n",
      "_ _ _ _ _ _ _ _ _ _ _\n",
      "Guess your letter: r\n",
      "_ _ _ _ _ _ _ _ _ _ _\n",
      "Guess your letter: o\n",
      "_ _ _ _ _ _ _ _ _ _ _\n",
      "Guess your letter: n\n",
      "_ _ _ _ _ _ _ _ _ _ _\n",
      "Guess your letter: a\n",
      "Oops! Already guessed that letter.\n",
      "_ _ _ _ _ _ _ _ _ _ _\n",
      "Guess your letter: d\n",
      "_ _ _ _ _ _ _ _ _ _ _\n",
      "Guess your letter: s\n",
      "_ _ _ _ _ _ _ _ _ _ _\n",
      "Guess your letter: l\n",
      "_ _ _ _ _ _ _ _ _ _ _\n",
      "Guess your letter: q\n",
      "_ _ _ _ _ _ _ _ _ _ _\n",
      "Guess your letter: w\n",
      "_ _ _ _ _ _ _ _ _ _ _\n",
      "Guess your letter: er\n",
      "_ _ _ _ _ _ _ _ _ _ _\n",
      "Guess your letter: \n",
      "_ _ _ _ _ _ _ _ _ _ _\n",
      "Guess your letter: t\n",
      "_ _ _ _ _ _ _ _ _ _ _\n",
      "Guess your letter: o\n",
      "Oops! Already guessed that letter.\n",
      "_ _ _ _ _ _ _ _ _ _ _\n",
      "Guess your letter: i\n",
      "_ _ _ _ _ _ _ _ _ _ _\n",
      "Guess your letter: y\n",
      "_ _ _ _ _ _ _ _ _ _ _\n",
      "Guess your letter: l\n",
      "Oops! Already guessed that letter.\n",
      "_ _ _ _ _ _ _ _ _ _ _\n",
      "Guess your letter: z\n",
      "_ _ _ _ _ _ _ _ _ _ _\n",
      "Guess your letter: ,\n",
      "_ _ _ _ _ _ _ _ _ _ _\n",
      "Guess your letter: m\n",
      "Oops! Already guessed that letter.\n",
      "_ _ _ _ _ _ _ _ _ _ _\n",
      "Guess your letter: x\n",
      "_ _ _ _ _ _ _ _ _ _ _\n",
      "Guess your letter: exit\n",
      "Thanks!\n"
     ]
    }
   ],
   "source": [
    "print(\"Jogo da Forca!\")\n",
    "secret_word=input()\n",
    "dashes=list(secret_word)\n",
    "display_list=[]\n",
    "for i in dashes:\n",
    "    display_list.append(\"_\")\n",
    "count=len(secret_word)\n",
    "guesses=0\n",
    "letter = 0\n",
    "used_list=[]\n",
    "while count != 0 and letter != \"exit\":\n",
    "    print(\" \".join(display_list))\n",
    "    letter=input(\"Guess your letter: \")\n",
    "\n",
    "    if letter.upper() in used_list:\n",
    "        print(\"Oops! Already guessed that letter.\")\n",
    "    else:\n",
    "        for i in range(0,len(secret_word)):\n",
    "            if letter.upper() == secret_word[i]:\n",
    "                display_list[i]=letter.upper()\n",
    "                count -= 1\n",
    "        guesses +=1\n",
    "    used_list.append(letter.upper())\n",
    "\n",
    "if letter == \"exit\":\n",
    "    print(\"Thanks!\")\n",
    "else:\n",
    "    print(\" \".join(display_list))\n",
    "    print(\"Good job! You figured that the word is \"+secret_word+\" after guessing %s letters!\" % guesses)"
   ]
  },
  {
   "cell_type": "code",
   "execution_count": 47,
   "metadata": {},
   "outputs": [
    {
     "name": "stdout",
     "output_type": "stream",
     "text": [
      "Digite um número: 16\n",
      "É par.\n"
     ]
    }
   ],
   "source": [
    "numero = int(input(\"Digite um número: \"))\n",
    "\n",
    "if numero % 2 == 0:\n",
    "    print(\"É par.\")\n",
    "else:\n",
    "    print('É ímpar.')"
   ]
  },
  {
   "cell_type": "code",
   "execution_count": 34,
   "metadata": {},
   "outputs": [
    {
     "name": "stdout",
     "output_type": "stream",
     "text": [
      "Tem.\n"
     ]
    }
   ],
   "source": [
    "frutas = ['Banana', 'Laranja', 'Maçã']\n",
    "\n",
    "if 'Maçã' in frutas:\n",
    "    print(\"Tem.\")\n",
    "else:\n",
    "    print(\"Não tem.\")"
   ]
  },
  {
   "cell_type": "code",
   "execution_count": 35,
   "metadata": {},
   "outputs": [
    {
     "name": "stdout",
     "output_type": "stream",
     "text": [
      "Não tem.\n"
     ]
    }
   ],
   "source": [
    "if 'Carro' in frutas:\n",
    "    print(\"Tem.\")\n",
    "else:\n",
    "    print(\"Não tem.\")"
   ]
  },
  {
   "cell_type": "code",
   "execution_count": 44,
   "metadata": {},
   "outputs": [
    {
     "name": "stdout",
     "output_type": "stream",
     "text": [
      "Entre a nota (0-100):85\n",
      "B\n"
     ]
    }
   ],
   "source": [
    "nota = int(input(\"Entre a nota (0-100):\"))\n",
    "\n",
    "if nota < 60:\n",
    "    print(\"F\")\n",
    "elif nota < 70:\n",
    "    print(\"D\")\n",
    "elif nota < 80:\n",
    "    print(\"C\")\n",
    "elif nota < 90:\n",
    "    print(\"B\")\n",
    "elif nota <= 100:\n",
    "    print(\"A\")\n",
    "else:\n",
    "    print(\"Nota inválida.\")"
   ]
  },
  {
   "cell_type": "markdown",
   "metadata": {},
   "source": [
    "## Métodos e Funções"
   ]
  },
  {
   "cell_type": "code",
   "execution_count": 52,
   "metadata": {},
   "outputs": [
    {
     "name": "stdout",
     "output_type": "stream",
     "text": [
      "Este método não retorna valores.\n"
     ]
    }
   ],
   "source": [
    "def sem_retorno():\n",
    "    print(\"Este método não retorna valores.\")\n",
    "    \n",
    "sem_retorno()"
   ]
  },
  {
   "cell_type": "code",
   "execution_count": 51,
   "metadata": {},
   "outputs": [
    {
     "data": {
      "text/plain": [
       "14.666666666666666"
      ]
     },
     "execution_count": 51,
     "metadata": {},
     "output_type": "execute_result"
    }
   ],
   "source": [
    "def media(lista):\n",
    "    return sum(lista)/len(lista)\n",
    "\n",
    "media([10,14,20])"
   ]
  },
  {
   "cell_type": "code",
   "execution_count": 54,
   "metadata": {},
   "outputs": [
    {
     "name": "stdout",
     "output_type": "stream",
     "text": [
      "[1, 2, 3, 4, 5]\n"
     ]
    }
   ],
   "source": [
    "def imprimir_ate(lista, n=5):\n",
    "    print(lista[:n])\n",
    "    \n",
    "imprimir_ate(list(range(1,100)))"
   ]
  },
  {
   "cell_type": "markdown",
   "metadata": {},
   "source": [
    "# Exercícios de Fixação\n",
    "\n",
    "## Exercício 1\n",
    "\n",
    "Peça ao usuário para digitar uma string e imprima se esta string é um palíndromo ou não. (Palíndromo é uma palavra que é lida da esquerda para a direita, conforme o sentido habitual da leitura, ou da direita para esquerda).\n",
    "\n",
    "\n",
    "## Exercício 2\n",
    "\n",
    "Escreva um programa que pergunte ao usuário quantos números de Fibonnaci serão gerados. Aproveite esta oportunidade para pensar sobre como você pode usar funções. Certifique-se de pedir ao usuário para inserir o número de números na seqüência para gerar. (Dica: A seqüência Fibonaci é uma seqüência de números onde o próximo número na seqüência é a soma dos dois números anteriores na seqüência. é assim: 1, 1, 2, 3, 5, 8, 13,…).\n",
    "\n",
    "\n",
    "## Desafio\n",
    "\n",
    "Todos nós já jogamos FORCA. \n",
    "\n",
    "Neste jogo, um jogador define uma palavra secreta, e o outro jogador tem um número limitado (normalmente 6) de letras máximas que ele pode errar. Cada vez que uma palavra certa é advinhada, é mostrado em qual posição se encontram as letras.\n",
    "\n",
    "Seu desafio é criar um jogo de forca, usando um pouco do que aprendeu sobre a linguagem Python. Seja criativo, e divirta-se!"
   ]
  },
  {
   "cell_type": "code",
   "execution_count": null,
   "metadata": {},
   "outputs": [],
   "source": []
  }
 ],
 "metadata": {
  "kernelspec": {
   "display_name": "Python 3",
   "language": "python",
   "name": "python3"
  },
  "language_info": {
   "codemirror_mode": {
    "name": "ipython",
    "version": 3
   },
   "file_extension": ".py",
   "mimetype": "text/x-python",
   "name": "python",
   "nbconvert_exporter": "python",
   "pygments_lexer": "ipython3",
   "version": "3.7.3"
  }
 },
 "nbformat": 4,
 "nbformat_minor": 2
}
